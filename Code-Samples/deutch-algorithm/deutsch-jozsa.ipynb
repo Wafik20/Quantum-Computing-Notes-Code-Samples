{
 "cells": [
  {
   "cell_type": "markdown",
   "id": "1d675724",
   "metadata": {},
   "source": [
    "# Deutsch-Jozsa Algorithm to generalize Deutsch's Algorithm\n",
    "\n",
    "## Problem Statement  \n",
    "Given a function  \n",
    "$$\n",
    "f: \\{0, 1\\}^n \\rightarrow \\{0, 1\\}\n",
    "$$  \n",
    "determine whether \\( f \\) is **constant** (same output for all inputs) or **balanced** (outputs 0 for half of inputs and 1 for the other half) **using the fewest number of queries**.\n",
    "\n",
    "Classically, this may require multiple queries. **Deutsch’s algorithm** uses **superposition and interference** to solve it with **a single query**.\n",
    "\n",
    "---\n",
    "\n"
   ]
  },
  {
   "cell_type": "code",
   "execution_count": 38,
   "id": "b3901f77",
   "metadata": {},
   "outputs": [],
   "source": [
    "from qiskit import QuantumCircuit, transpile\n",
    "from qiskit_aer import AerSimulator, Aer\n",
    "from qiskit.visualization import plot_histogram"
   ]
  },
  {
   "cell_type": "markdown",
   "id": "b5d1f12f",
   "metadata": {},
   "source": [
    "Let's begin by choosing some function to test on $f(x) = x \\mod 2$.\n",
    "\n",
    "Reciting the general definition of an oracle transformation $U_f$ that computes some function $f(n)$:\n",
    "\n",
    "$$ U_f |x\\rangle |y\\rangle = |x\\rangle |y \\oplus f(x)\\rangle $$\n",
    "\n",
    "where $|x\\rangle$ is the input register and $|y\\rangle$ is the output register.\n",
    "\n",
    "\n",
    "In our case: $$ U_f |x\\rangle |y\\rangle = |x\\rangle |y \\oplus (x \\mod 2)\\rangle = |x\\rangle |y \\oplus x_0)\\rangle $$\n",
    "\n",
    "where $x_0$ is the least significant bit of $x$.\n",
    "This behavior is equivalent to a **CNOT gate** where $ \\ket{x_0} $ is the control qubit and $ \\ket{y} $ is the target qubit.  \n",
    "In other words:\n",
    "\n",
    "$$\n",
    "y = 1 \\iff q_0 = 1\n",
    "$$\n",
    "because:\n",
    "$$\n",
    "(x_n \\ldots x_1 1) \\bmod 2 = 1\n",
    "$$\n",
    "else:\n",
    "$$\n",
    "y = 0\n",
    "$$"
   ]
  },
  {
   "cell_type": "code",
   "execution_count": 39,
   "id": "f0dfd1eb",
   "metadata": {},
   "outputs": [
    {
     "data": {
      "image/png": "[encoded data removed]",
      "text/plain": [
       "<Figure size 203.885x367.889 with 1 Axes>"
      ]
     },
     "execution_count": 39,
     "metadata": {},
     "output_type": "execute_result"
    }
   ],
   "source": [
    "# Let f be some function\n",
    "# Let's take f(x) = x mod 2\n",
    "def f(x):\n",
    "    return x % 2\n",
    "\n",
    "# Let's begin by defining our oracle\n",
    "def create_oracle(n, f):\n",
    "    oracle = QuantumCircuit(n + 1)\n",
    "    oracle.cx(0, n)\n",
    "\n",
    "    return oracle\n",
    "\n",
    "# Let n = 10\n",
    "oracle = create_oracle(3, f)\n",
    "\n",
    "oracle.draw('mpl')"
   ]
  },
  {
   "cell_type": "markdown",
   "id": "a8a16ccb",
   "metadata": {},
   "source": [
    "Now we're ready to build our quantum circuit for the Deutsch-Josza algorithm."
   ]
  },
  {
   "cell_type": "code",
   "execution_count": 40,
   "id": "34015ef5",
   "metadata": {},
   "outputs": [
    {
     "data": {
      "image/png": "[encoded data removed]",
      "text/plain": [
       "<Figure size 872.774x451.5 with 1 Axes>"
      ]
     },
     "execution_count": 40,
     "metadata": {},
     "output_type": "execute_result"
    }
   ],
   "source": [
    "def create_deutsch_jozsa_circuit(n, f):\n",
    "    qc = QuantumCircuit(n + 1, n)\n",
    "\n",
    "    # Prepare $\\ket{y}$ to be $\\ket{-}$ for phase kickback\n",
    "    qc.x(n)\n",
    "    qc.h(n)\n",
    "\n",
    "    # Begin the main circuit\n",
    "    qc.barrier()\n",
    "\n",
    "    # Set all qubits in super position\n",
    "    for i in range(n):\n",
    "        qc.h(i)\n",
    "    \n",
    "    oracle = create_oracle(n, f)\n",
    "    Uf = oracle.to_gate()\n",
    "    Uf.label = \"$U_f$\"\n",
    "\n",
    "    # Step 2: apply oracle\n",
    "    qc.compose(Uf, inplace=True)\n",
    "\n",
    "    # Again, apply Hadamard to all $n$ qubits\n",
    "    for i in range(n):\n",
    "        qc.h(i)\n",
    "        qc.measure(i, i)\n",
    "\n",
    "    return qc  # make sure to return the circuit\n",
    "\n",
    "\n",
    "qc = create_deutsch_jozsa_circuit(3, 0)\n",
    "qc.draw('mpl')"
   ]
  },
  {
   "cell_type": "markdown",
   "id": "954f1490",
   "metadata": {},
   "source": [
    "Now, the fun part :) Let's simulate with Qiskit AER!!\n"
   ]
  },
  {
   "cell_type": "code",
   "execution_count": 41,
   "id": "9051fcd8",
   "metadata": {},
   "outputs": [
    {
     "name": "stdout",
     "output_type": "stream",
     "text": [
      "Counts: {'001': 1}\n",
      "The function is balanced.\n"
     ]
    }
   ],
   "source": [
    "# --- Simulation ---\n",
    "simulator = AerSimulator()\n",
    "\n",
    "# Need to use transpile() here to simplify my oracle circuit $U_f$\n",
    "qct = transpile(qc, simulator)\n",
    "# print(qct)\n",
    "\n",
    "result = Aer.get_backend('statevector_simulator').run(qct, shots=1).result()\n",
    "counts = result.get_counts(qct)\n",
    "print(\"Counts:\", counts)\n",
    "\n",
    "if '000' in counts:\n",
    "    print(\"The function is constant.\")\n",
    "else:\n",
    "    print(\"The function is balanced.\")"
   ]
  }
 ],
 "metadata": {
  "kernelspec": {
   "display_name": ".venv",
   "language": "python",
   "name": "python3"
  },
  "language_info": {
   "codemirror_mode": {
    "name": "ipython",
    "version": 3
   },
   "file_extension": ".py",
   "mimetype": "text/x-python",
   "name": "python",
   "nbconvert_exporter": "python",
   "pygments_lexer": "ipython3",
   "version": "3.12.6"
  }
 },
 "nbformat": 4,
 "nbformat_minor": 5
}
