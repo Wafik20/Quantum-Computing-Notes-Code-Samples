{
 "cells": [
  {
   "cell_type": "markdown",
   "id": "d32640a5",
   "metadata": {},
   "source": [
    "# Deutsch's Algorithm to Tackle the Parity Problem\n",
    "\n",
    "- Problem Statement: Given a function $ f: \\{0, 1\\}^n \\rightarrow \\{0, 1\\} $, determine whether $ f $ is constant (outputs the same value for all inputs) or balanced (outputs 0 for half of the inputs and 1 for the other half) using the fewest number of queries.\n",
    "\n",
    "- Solution Overview: Deutsch's algorithm leverages quantum superposition and interference to solve the problem with a single query, in contrast to classical algorithms that may require multiple queries."
   ]
  },
  {
   "cell_type": "code",
   "execution_count": 63,
   "id": "7616f8d3",
   "metadata": {},
   "outputs": [],
   "source": [
    "from math import atan2\n",
    "from qiskit import QuantumCircuit\n",
    "import qiskit_aer as aer\n",
    "import numpy as np\n",
    "from qiskit.circuit.library import UnitaryGate"
   ]
  },
  {
   "cell_type": "markdown",
   "id": "07dea00a",
   "metadata": {},
   "source": [
    "## Let's tackle creating a circuit to simulate Deutsch's algorithm\n",
    "1. Create the oracle circuit $U_f$"
   ]
  },
  {
   "cell_type": "code",
   "execution_count": 67,
   "id": "16216a0a",
   "metadata": {},
   "outputs": [
    {
     "data": {
      "image/png": "[encoded data removed]",
      "text/plain": [
       "<Figure size 203.683x200.667 with 1 Axes>"
      ]
     },
     "execution_count": 67,
     "metadata": {},
     "output_type": "execute_result"
    }
   ],
   "source": [
    "\n",
    "oracle = QuantumCircuit(2)\n",
    "oracle.cx(0, 1)  # Control on input qubit, target output qubit\n",
    "Uf = oracle.to_gate()\n",
    "Uf.name = \"$U_f$\"\n",
    "\n",
    "oracle.draw('mpl')"
   ]
  },
  {
   "cell_type": "markdown",
   "id": "ab585515",
   "metadata": {},
   "source": [
    "2. With our $U_f$ defined, we can create our main circuit"
   ]
  },
  {
   "cell_type": "code",
   "execution_count": 69,
   "id": "98a7f9ce",
   "metadata": {},
   "outputs": [
    {
     "data": {
      "image/png": "[encoded data removed]",
      "text/plain": [
       "<Figure size 538.128x284.278 with 1 Axes>"
      ]
     },
     "execution_count": 69,
     "metadata": {},
     "output_type": "execute_result"
    }
   ],
   "source": [
    "# Main Deutsch circuit\n",
    "qc = QuantumCircuit(2, 1)\n",
    "\n",
    "# Step 1: prepare input in |+>, output in |->\n",
    "qc.h(0)\n",
    "qc.x(1)\n",
    "qc.h(1)\n",
    "\n",
    "# Step 2: apply oracle\n",
    "qc.append(Uf, [0, 1])\n",
    "\n",
    "# Step 3: Hadamard on input\n",
    "qc.h(0)\n",
    "\n",
    "# Step 4: measure input\n",
    "qc.measure(0, 0)\n",
    "\n",
    "qc.draw('mpl')"
   ]
  }
 ],
 "metadata": {
  "kernelspec": {
   "display_name": ".venv",
   "language": "python",
   "name": "python3"
  },
  "language_info": {
   "codemirror_mode": {
    "name": "ipython",
    "version": 3
   },
   "file_extension": ".py",
   "mimetype": "text/x-python",
   "name": "python",
   "nbconvert_exporter": "python",
   "pygments_lexer": "ipython3",
   "version": "3.12.6"
  }
 },
 "nbformat": 4,
 "nbformat_minor": 5
}
