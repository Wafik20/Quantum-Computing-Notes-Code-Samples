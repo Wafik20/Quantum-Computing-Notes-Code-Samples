{
 "cells": [
  {
   "cell_type": "markdown",
   "id": "d32640a5",
   "metadata": {},
   "source": [
    "# Deutsch's Algorithm to Tackle the Parity Problem\n",
    "\n",
    "\n",
    "## Problem Statement  \n",
    "Given a function  \n",
    "$$\n",
    "f: \\{0, 1\\}^n \\rightarrow \\{0, 1\\}\n",
    "$$  \n",
    "determine whether \\( f \\) is **constant** (same output for all inputs) or **balanced** (outputs 0 for half of inputs and 1 for the other half) **using the fewest number of queries**.\n",
    "\n",
    "Classically, this may require multiple queries. **Deutsch’s algorithm** uses **superposition and interference** to solve it with **a single query**.\n",
    "\n",
    "---"
   ]
  },
  {
   "cell_type": "code",
   "execution_count": 115,
   "id": "7616f8d3",
   "metadata": {},
   "outputs": [],
   "source": [
    "from math import atan2\n",
    "from qiskit import QuantumCircuit\n",
    "import qiskit_aer as aer\n",
    "import numpy as np\n",
    "from qiskit.circuit.library import UnitaryGate"
   ]
  },
  {
   "cell_type": "markdown",
   "id": "693e44cd",
   "metadata": {},
   "source": [
    "## Let's tackle creating a circuit to simulate Deutsch's algorithm\n",
    "\n",
    "## Step 1 — Define the Oracle $U_f$\n",
    "\n",
    "We choose  \n",
    "$$\n",
    "f(x) = \\neg x = x \\oplus 1\n",
    "$$ \n",
    "which means:  \n",
    "- $ f(0) = 1 $  \n",
    "- $ f(1) = 0 $  \n",
    "\n",
    "This corresponds to the following **unitary matrix**:\n",
    "\n",
    "$$\n",
    "\\begin{pmatrix}\n",
    "1 & 0 & 0 & 0 \\\\\n",
    "0 & 1 & 0 & 0 \\\\\n",
    "0 & 0 & 0 & 1 \\\\\n",
    "0 & 0 & 1 & 0\n",
    "\\end{pmatrix}\n",
    "$$\n",
    "\n",
    "That is **exactly** the CNOT gate."
   ]
  },
  {
   "cell_type": "code",
   "execution_count": 119,
   "id": "16216a0a",
   "metadata": {},
   "outputs": [
    {
     "data": {
      "image/png": "[encoded data removed]",
      "text/plain": [
       "<Figure size 203.683x200.667 with 1 Axes>"
      ]
     },
     "execution_count": 119,
     "metadata": {},
     "output_type": "execute_result"
    }
   ],
   "source": [
    "\n",
    "oracle = QuantumCircuit(2)\n",
    "oracle.cx(0, 1)  # Control on input qubit, target output qubit\n",
    "Uf = oracle.to_gate()\n",
    "Uf.name = \"$U_f$\"\n",
    "\n",
    "oracle.draw('mpl')"
   ]
  },
  {
   "cell_type": "markdown",
   "id": "ab585515",
   "metadata": {},
   "source": [
    "Step 2 — Build the Main Deutsch Circuit\n",
    "\n",
    "The steps of the algorithm:\n",
    "\n",
    "1. **Initialize qubits**  \n",
    "   - Input qubit: $(\\ket{0}) → H → \\ket{+}$\n",
    "   - Output qubit: $(\\ket{0}) → X → H → \\ket{-}$\n",
    "\n",
    "2. **Apply the oracle $U_f$**.\n",
    "\n",
    "3. **Apply Hadamard** to the input qubit again to create interference.\n",
    "\n",
    "4. **Measure** the input qubit."
   ]
  },
  {
   "cell_type": "code",
   "execution_count": 117,
   "id": "98a7f9ce",
   "metadata": {},
   "outputs": [
    {
     "data": {
      "image/png": "[encoded data removed]",
      "text/plain": [
       "<Figure size 538.128x284.278 with 1 Axes>"
      ]
     },
     "execution_count": 117,
     "metadata": {},
     "output_type": "execute_result"
    }
   ],
   "source": [
    "# Main Deutsch circuit\n",
    "qc = QuantumCircuit(2, 1)\n",
    "\n",
    "# Step 1: prepare input in |+>, output in |->\n",
    "qc.h(0)\n",
    "qc.x(1)\n",
    "qc.h(1)\n",
    "\n",
    "# Step 2: apply oracle\n",
    "qc.compose(oracle, inplace=True)\n",
    "\n",
    "# Step 3: Hadamard on input\n",
    "qc.h(0)\n",
    "\n",
    "# Step 4: measure input\n",
    "qc.measure(0, 0)\n",
    "\n",
    "qc.draw('mpl')"
   ]
  },
  {
   "cell_type": "markdown",
   "id": "aa975d42",
   "metadata": {},
   "source": [
    "## Step 3 — Simulate the Circuit with Qiskit Aer\n",
    "\n",
    "We use Qiskit Aer’s simulator to get the result distribution."
   ]
  },
  {
   "cell_type": "code",
   "execution_count": 118,
   "id": "bccdc334",
   "metadata": {},
   "outputs": [
    {
     "name": "stdout",
     "output_type": "stream",
     "text": [
      "\n",
      "Measurement results: {'1': 1024}\n"
     ]
    }
   ],
   "source": [
    "# Use the Aer simulator from qiskit_aer\n",
    "simulator = aer.AerSimulator()\n",
    "\n",
    "# Run the circuit on the simulator\n",
    "job = simulator.run(qc, shots=1024)\n",
    "\n",
    "# Get the results from the job\n",
    "result = job.result()\n",
    "\n",
    "# Get the measurement counts\n",
    "counts = result.get_counts(qc)\n",
    "\n",
    "# Print the final result\n",
    "print(\"\\nMeasurement results:\", counts)"
   ]
  }
 ],
 "metadata": {
  "kernelspec": {
   "display_name": ".venv",
   "language": "python",
   "name": "python3"
  },
  "language_info": {
   "codemirror_mode": {
    "name": "ipython",
    "version": 3
   },
   "file_extension": ".py",
   "mimetype": "text/x-python",
   "name": "python",
   "nbconvert_exporter": "python",
   "pygments_lexer": "ipython3",
   "version": "3.12.6"
  }
 },
 "nbformat": 4,
 "nbformat_minor": 5
}
